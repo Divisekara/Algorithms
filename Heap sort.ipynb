{
 "cells": [
  {
   "cell_type": "markdown",
   "metadata": {},
   "source": [
    "# Heap sort(comparison based sorting algorithm)"
   ]
  },
  {
   "cell_type": "markdown",
   "metadata": {},
   "source": [
    " Heap sort requires the knowledge of arrays and trees. Heap, heapify. Big o notation: n*log(n)"
   ]
  },
  {
   "cell_type": "code",
   "execution_count": 4,
   "metadata": {},
   "outputs": [],
   "source": [
    "def heapify(L,n,i):\n",
    "    largest = i #roots\n",
    "    l = 2 *i+1 #left = 2*i+1\n",
    "    r = 2 *i+2 #Right = 2*i+2\n",
    "    \n",
    "    #If the left child exist of root exists and is greater than root\n",
    "    if l < n and L[i]<L[l]:\n",
    "        largest=1\n",
    "        \n",
    "    if r<n and L[largest]<L[r]:\n",
    "        largest=r\n",
    "        \n",
    "    if largest!=i:\n",
    "        L[i],L[largest] = L[largest],L[i] #Swap\n",
    "        heapify(L,n,largest)\n",
    "        \n",
    "def heapSort(L):\n",
    "    n = len(L)\n",
    "    \n",
    "    #building the max heap\n",
    "    for i in range(n//2-1,-1,-1):\n",
    "        heapify(L,n,i)\n",
    "        \n",
    "    for i in range(n-1,0,-1):\n",
    "        L[i], L[0] = L[0],L[i] #swap\n",
    "        heapify(L,i,0)\n",
    "        \n",
    "#driver code to test above"
   ]
  },
  {
   "cell_type": "code",
   "execution_count": 12,
   "metadata": {},
   "outputs": [
    {
     "name": "stdout",
     "output_type": "stream",
     "text": [
      "Sorted array is: \n",
      "5\n",
      "6\n",
      "7\n",
      "11\n",
      "12\n",
      "13\n"
     ]
    }
   ],
   "source": [
    "L=[12,11,13,5,6,7]\n",
    "heapSort(L)\n",
    "n = len(L)\n",
    "print(\"Sorted array is: \"),\n",
    "for i in range(n):\n",
    "    print(\"%d\" %L[i]),"
   ]
  },
  {
   "cell_type": "code",
   "execution_count": null,
   "metadata": {},
   "outputs": [],
   "source": []
  },
  {
   "cell_type": "code",
   "execution_count": null,
   "metadata": {},
   "outputs": [],
   "source": []
  }
 ],
 "metadata": {
  "kernelspec": {
   "display_name": "Python 3",
   "language": "python",
   "name": "python3"
  },
  "language_info": {
   "codemirror_mode": {
    "name": "ipython",
    "version": 3
   },
   "file_extension": ".py",
   "mimetype": "text/x-python",
   "name": "python",
   "nbconvert_exporter": "python",
   "pygments_lexer": "ipython3",
   "version": "3.8.3"
  }
 },
 "nbformat": 4,
 "nbformat_minor": 4
}
