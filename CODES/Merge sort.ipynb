{
 "cells": [
  {
   "cell_type": "markdown",
   "metadata": {},
   "source": [
    "# Merge sort"
   ]
  },
  {
   "cell_type": "code",
   "execution_count": 8,
   "metadata": {},
   "outputs": [],
   "source": [
    "def merge_sort(L):\n",
    "    if (len(L)<=1):\n",
    "        return L\n",
    "    midpoint = int(len(L)/2)\n",
    "    \n",
    "    left, right = merge_sort(L[:midpoint]), merge_sort(L[midpoint:])\n",
    "    \n",
    "    return merge(left, right)\n",
    "\n",
    "def merge(left, right):\n",
    "    result = []\n",
    "    left_pointer = right_pointer = 0\n",
    "    \n",
    "    while left_pointer<len(left) and right_pointer<len(right):\n",
    "        \n",
    "        if left[left_pointer]<right[right_pointer]:\n",
    "            result.append(left[left_pointer])\n",
    "            left_pointer +=1\n",
    "            \n",
    "        else:\n",
    "            result.append(right[right_pointer])\n",
    "            right_pointer +=1\n",
    "            \n",
    "    result.extend(left[left_pointer:])\n",
    "    result.extend(right[right_pointer:])\n",
    "    \n",
    "    return result"
   ]
  },
  {
   "cell_type": "code",
   "execution_count": 9,
   "metadata": {},
   "outputs": [],
   "source": [
    "L=[6,7,4,3,7,3,7,4,8,0,1,0,7,3,2]"
   ]
  },
  {
   "cell_type": "code",
   "execution_count": 10,
   "metadata": {},
   "outputs": [],
   "source": [
    "result = merge_sort(L) #Merge sort does not convert the array into sorted only output the sorted list"
   ]
  },
  {
   "cell_type": "code",
   "execution_count": 11,
   "metadata": {},
   "outputs": [
    {
     "data": {
      "text/plain": [
       "[0, 0, 1, 2, 3, 3, 3, 4, 4, 6, 7, 7, 7, 7, 8]"
      ]
     },
     "execution_count": 11,
     "metadata": {},
     "output_type": "execute_result"
    }
   ],
   "source": [
    "result"
   ]
  }
 ],
 "metadata": {
  "kernelspec": {
   "display_name": "Python 3",
   "language": "python",
   "name": "python3"
  },
  "language_info": {
   "codemirror_mode": {
    "name": "ipython",
    "version": 3
   },
   "file_extension": ".py",
   "mimetype": "text/x-python",
   "name": "python",
   "nbconvert_exporter": "python",
   "pygments_lexer": "ipython3",
   "version": "3.8.3"
  }
 },
 "nbformat": 4,
 "nbformat_minor": 4
}
