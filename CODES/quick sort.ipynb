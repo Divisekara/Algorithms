{
 "cells": [
  {
   "cell_type": "markdown",
   "metadata": {},
   "source": [
    "# Quick sort (default algorithm of many languages)"
   ]
  },
  {
   "cell_type": "code",
   "execution_count": 16,
   "metadata": {},
   "outputs": [
    {
     "data": {
      "text/plain": [
       "16"
      ]
     },
     "execution_count": 16,
     "metadata": {},
     "output_type": "execute_result"
    }
   ],
   "source": [
    " L = [9,4,8,5,7,6,1,4,2,3,0,7,4,2,6,7]\n",
    "len(L)"
   ]
  },
  {
   "cell_type": "code",
   "execution_count": 17,
   "metadata": {},
   "outputs": [],
   "source": [
    "def quicksort(L,lowIndex, highIndex):\n",
    "    if(highIndex - lowIndex >0):\n",
    "        p = partition(L,lowIndex,highIndex)\n",
    "        quicksort(L,lowIndex,p-1)\n",
    "        quicksort(L,p+1,highIndex)\n",
    "\n",
    "def partition(L,lowIndex,highIndex):\n",
    "    divider = lowIndex\n",
    "    pivot = highIndex\n",
    "    \n",
    "    for i in range(lowIndex,highIndex):\n",
    "        if(L[i] < L[pivot]):\n",
    "            L[i],L[divider] = L[divider], L[i]\n",
    "            divider +=1\n",
    "            \n",
    "    L[pivot],L[divider] = L[divider],L[pivot]\n",
    "    \n",
    "    return divider\n"
   ]
  },
  {
   "cell_type": "code",
   "execution_count": 18,
   "metadata": {},
   "outputs": [],
   "source": [
    "quicksort(L,0,len(L)-1)"
   ]
  },
  {
   "cell_type": "code",
   "execution_count": 19,
   "metadata": {},
   "outputs": [
    {
     "data": {
      "text/plain": [
       "[0, 1, 2, 2, 3, 4, 4, 4, 5, 6, 6, 7, 7, 7, 8, 9]"
      ]
     },
     "execution_count": 19,
     "metadata": {},
     "output_type": "execute_result"
    }
   ],
   "source": [
    "L"
   ]
  },
  {
   "cell_type": "code",
   "execution_count": null,
   "metadata": {},
   "outputs": [],
   "source": []
  }
 ],
 "metadata": {
  "kernelspec": {
   "display_name": "Python 3",
   "language": "python",
   "name": "python3"
  },
  "language_info": {
   "codemirror_mode": {
    "name": "ipython",
    "version": 3
   },
   "file_extension": ".py",
   "mimetype": "text/x-python",
   "name": "python",
   "nbconvert_exporter": "python",
   "pygments_lexer": "ipython3",
   "version": "3.8.3"
  }
 },
 "nbformat": 4,
 "nbformat_minor": 4
}
